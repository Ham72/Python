{
 "cells": [
  {
   "cell_type": "markdown",
   "metadata": {},
   "source": [
    "## Sets\n",
    "Let's take an example of list, we can add same items, remove items using list\n"
   ]
  },
  {
   "cell_type": "code",
   "execution_count": 8,
   "metadata": {},
   "outputs": [
    {
     "data": {
      "text/plain": [
       "['Wasiq', 'Ehtasham', 'Umer', 'Arslan', 'Hammad', 'Wasiq']"
      ]
     },
     "execution_count": 8,
     "metadata": {},
     "output_type": "execute_result"
    }
   ],
   "source": [
    "names = ['Wasiq','Ehtasham','Umer','Arslan']\n",
    "names.append('Hammad')\n",
    "names.append('Wasiq')\n",
    "names"
   ]
  },
  {
   "cell_type": "markdown",
   "metadata": {},
   "source": [
    "sometimes we don't need same items. So here SETS come to our rescue, they contain 'unique' values without order"
   ]
  },
  {
   "cell_type": "code",
   "execution_count": 12,
   "metadata": {},
   "outputs": [
    {
     "name": "stdout",
     "output_type": "stream",
     "text": [
      "{'Ehtasham', 'Umer', 'Wasiq', 'Arslan'}\n"
     ]
    },
    {
     "data": {
      "text/plain": [
       "set"
      ]
     },
     "execution_count": 12,
     "metadata": {},
     "output_type": "execute_result"
    }
   ],
   "source": [
    "names = {'Wasiq','Ehtasham','Umer','Arslan'}\n",
    "print(names)\n",
    "type(names)"
   ]
  },
  {
   "cell_type": "code",
   "execution_count": 13,
   "metadata": {},
   "outputs": [
    {
     "name": "stdout",
     "output_type": "stream",
     "text": [
      "<class 'str'>\n",
      "{'l', 'e', 'u', 'b'}\n",
      "<class 'set'>\n"
     ]
    }
   ],
   "source": [
    "var = 'bubble'\n",
    "print(type(var))\n",
    "var = set(var)    # can convert iterable to set, by calling set() class\n",
    "print(var)\n",
    "print(type(var))"
   ]
  },
  {
   "cell_type": "code",
   "execution_count": 14,
   "metadata": {},
   "outputs": [
    {
     "name": "stdout",
     "output_type": "stream",
     "text": [
      "<class 'set'>\n",
      "<class 'set'>\n",
      "<class 'dict'>\n",
      "<class 'set'>\n",
      "<class 'set'>\n"
     ]
    }
   ],
   "source": [
    "print(type({'x','y'}))\n",
    "print(type({'x'}))\n",
    "print(type({}))      # dictionary {}\n",
    "print(type(set()))\n",
    "print(type(set({})))"
   ]
  },
  {
   "cell_type": "markdown",
   "metadata": {},
   "source": [
    "### Sets Methods \n",
    "#### remove & add()"
   ]
  },
  {
   "cell_type": "code",
   "execution_count": 18,
   "metadata": {},
   "outputs": [
    {
     "name": "stdout",
     "output_type": "stream",
     "text": [
      "ADD: \n",
      "{'Ehtasham', 'Wasiq', 'Ali'}\n",
      "Remove:\n",
      "{'Ehtasham', 'Ali'}\n"
     ]
    }
   ],
   "source": [
    "names = {'Wasiq','Ehtasham'}\n",
    "names.add('Ali')\n",
    "print(\"ADD: \")\n",
    "print(names)\n",
    "\n",
    "# ----------------------\n",
    "print(\"Remove:\")\n",
    "names.remove('Wasiq')\n",
    "print(names)"
   ]
  },
  {
   "cell_type": "markdown",
   "metadata": {},
   "source": [
    "### Fun Stuff ahead"
   ]
  },
  {
   "cell_type": "code",
   "execution_count": 27,
   "metadata": {},
   "outputs": [
    {
     "name": "stdout",
     "output_type": "stream",
     "text": [
      "Intersection of sets:\n",
      "{'Wasiq'}\n",
      "------------------------------\n",
      "Union of sets:\n",
      "{'Ali', 'Arslan', 'Ehtasham', 'Umer', 'Wasiq'}\n",
      "------------------------------\n",
      "name1 OR names2, but not both: \n",
      "{'Arslan', 'Ehtasham', 'Ali', 'Umer'}\n",
      "------------------------------\n",
      " In names1, but not in names2: \n",
      "{'Ehtasham', 'Umer', 'Arslan'}\n"
     ]
    }
   ],
   "source": [
    "names1 = {'Wasiq','Ehtasham','Umer','Arslan'}\n",
    "names2 = {'Wasiq','Ali'}\n",
    "\n",
    "print(\"Intersection of sets:\")\n",
    "print(names1 & names2)\n",
    "\n",
    "print(\"-\"*30)\n",
    "\n",
    "print(\"Union of sets:\")\n",
    "print(names1 | names2)\n",
    "\n",
    "print(\"-\"*30)\n",
    "\n",
    "print(\"name1 OR names2, but not both: \")\n",
    "print(names1 ^ names2)\n",
    "\n",
    "print(\"-\"*30)\n",
    "\n",
    "print(\" In names1, but not in names2: \")\n",
    "print(names1-names2)\n"
   ]
  },
  {
   "cell_type": "code",
   "execution_count": null,
   "metadata": {},
   "outputs": [],
   "source": []
  }
 ],
 "metadata": {
  "kernelspec": {
   "display_name": "Python 3",
   "language": "python",
   "name": "python3"
  },
  "language_info": {
   "codemirror_mode": {
    "name": "ipython",
    "version": 3
   },
   "file_extension": ".py",
   "mimetype": "text/x-python",
   "name": "python",
   "nbconvert_exporter": "python",
   "pygments_lexer": "ipython3",
   "version": "3.7.1"
  }
 },
 "nbformat": 4,
 "nbformat_minor": 2
}
