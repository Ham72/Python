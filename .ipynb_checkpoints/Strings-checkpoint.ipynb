{
 "cells": [
  {
   "cell_type": "code",
   "execution_count": 4,
   "metadata": {},
   "outputs": [
    {
     "name": "stdout",
     "output_type": "stream",
     "text": [
      "He said:Hello World!\n",
      "He said:Hello World!\n",
      "He said:Hello World!He said:Hello World!He said:Hello World!\n"
     ]
    }
   ],
   "source": [
    "our_string = \"Hello World!\"\n",
    "\n",
    "our_string = \"He said:\" + our_string\n",
    "print(our_string)\n",
    "\n",
    "our_string * 3\n",
    "print(our_string)\n",
    "\n",
    "our_string= our_string * 3\n",
    "print(our_string)\n"
   ]
  },
  {
   "cell_type": "code",
   "execution_count": 5,
   "metadata": {},
   "outputs": [],
   "source": [
    "#Python strings are immutable. cant be changed\n",
    "#Even some_string += another_string creates a new string."
   ]
  },
  {
   "cell_type": "code",
   "execution_count": 22,
   "metadata": {},
   "outputs": [
    {
     "name": "stdout",
     "output_type": "stream",
     "text": [
      "Happy Hoidays!!\n",
      "\n",
      "length 15 \n",
      "\n",
      "Exclude 13th index, goes upto 12\n",
      " Hoidays \n",
      "\n",
      "days\n"
     ]
    }
   ],
   "source": [
    "## Slicing\n",
    "greetings = \"Happy Hoidays!!\"\n",
    "print(greetings)\n",
    "\n",
    "print()\n",
    "print(\"length\", len(greetings),\"\\n\")\n",
    "print(\"Exclude 13th index, goes upto 12\")\n",
    "print(greetings[5:13],\"\\n\")\n",
    "\n",
    "\n",
    "#[len-6:len-2]\n",
    "#[15-6:15-2] ==> greetings[9:13] ==\n",
    "print(greetings[-6:-2])"
   ]
  },
  {
   "cell_type": "code",
   "execution_count": 35,
   "metadata": {},
   "outputs": [
    {
     "name": "stdout",
     "output_type": "stream",
     "text": [
      "H\n",
      "!\n",
      "greetings[-1] => ! | or greeting[len-1] => !\n"
     ]
    }
   ],
   "source": [
    "# Indexing\n",
    "print(greetings[0])\n",
    "#print(greetings[len(greetings)])\n",
    "print(greetings[len(greetings)-1])\n",
    "print(\"greetings[-1] =>\", greetings[-1], \"| or greeting[len-1] =>\", greetings[len(greetings)-1])"
   ]
  },
  {
   "cell_type": "code",
   "execution_count": 57,
   "metadata": {},
   "outputs": [
    {
     "name": "stdout",
     "output_type": "stream",
     "text": [
      "Upper case : HAPPY HOIDAYS!!\n",
      "lower case : happy hoidays!!\n",
      "starts with : True\n",
      "\n",
      "\n",
      "replcae : Happy Hoidays@@\n",
      "Strip Method for removing space or char\n",
      "hello \n",
      "  hello\n",
      "hello\n",
      "hello \n",
      "Count H: 2\n",
      "hello-world-test\n",
      "['hello', 'world', 'test']\n"
     ]
    }
   ],
   "source": [
    "# String methods\n",
    "print(\"Upper case :\", greetings.upper())\n",
    "print(\"lower case :\", greetings.lower())\n",
    "# startswith(Ha)\n",
    "print(\"starts with :\", greetings.startswith(\"Ha\"))\n",
    "print (\"\\n\")\n",
    "print(\"replcae :\", greetings.replace(\"!\",\"@\",2)) # replace 2 occurace\n",
    "\n",
    "print(\"Strip Method for removing space or char\")\n",
    "print(\"  hello \".lstrip())\n",
    "print(\"  hello \".rstrip())\n",
    "print(\" hello \".strip())\n",
    "print(\"hello abc\".strip(\"abc\"))\n",
    "\n",
    "\n",
    "print(\"Count H:\",greetings.count(\"H\"))\n",
    "var ='-'.join(['hello', 'world', 'test'])\n",
    "print(var)\n",
    "print(var.split('-')) # returns a list"
   ]
  },
  {
   "cell_type": "code",
   "execution_count": 62,
   "metadata": {},
   "outputs": [
    {
     "name": "stdout",
     "output_type": "stream",
     "text": [
      "Hello Hammad.\n",
      "My name is Hammad and I'm CS student, working to improve my Python skills.\n"
     ]
    }
   ],
   "source": [
    "#String formatting\n",
    "#.format()\n",
    "name = \"Hammad\"\n",
    "education = \"CS\"\n",
    "programming = \"Python\"\n",
    "\n",
    "temp1 = \"Hello {}.\".format(name)\n",
    "print(temp1)\n",
    "\n",
    "temp2 = \"My name is {} and I'm {} student, working to improve my {} skills.\".format(name, education, programming)\n",
    "print(temp2)"
   ]
  },
  {
   "cell_type": "code",
   "execution_count": 65,
   "metadata": {},
   "outputs": [
    {
     "name": "stdout",
     "output_type": "stream",
     "text": [
      "Hello Hammad.\n",
      "My name is Hammad and I'm CS student, working to improve my Python skills.\n"
     ]
    }
   ],
   "source": [
    "#--------------------\n",
    "# %s formatting. %s-formatting, also known as old-style formatting\n",
    "temp1 = \"Hello %s.\" % name\n",
    "print(temp1)\n",
    "\n",
    "temp3 = \"My name is %s and I'm %s student, working to improve my %s skills.\" %(name, education, programming)\n",
    "print(temp3)"
   ]
  },
  {
   "cell_type": "code",
   "execution_count": 68,
   "metadata": {},
   "outputs": [
    {
     "name": "stdout",
     "output_type": "stream",
     "text": [
      "we have (10, 11, 12)\n"
     ]
    }
   ],
   "source": [
    "# tuple formating\n",
    "count =(10,11,12)\n",
    "#print(\"we have %s\" % count)\n",
    "print(\"we have %s\" % (count,))"
   ]
  },
  {
   "cell_type": "code",
   "execution_count": 69,
   "metadata": {},
   "outputs": [
    {
     "name": "stdout",
     "output_type": "stream",
     "text": [
      "My name is Hammad and I'm CS student, working to improve my Python skills.\n"
     ]
    }
   ],
   "source": [
    "# f-strings are even less typing, but new in Python 3.6.Use this only if you know that nobody will need to run \n",
    "# your code on Python versions older than 3.6.Here the f is short for \"format\", and the content of the \n",
    "# string is same as it would be with .format() but we can use variables directly.\n",
    "\n",
    "#f\"your stuff{}, then there stuff{}\"\n",
    "print(f\"My name is {name} and I'm {education} student, working to improve my {programming} skills.\")\n"
   ]
  },
  {
   "cell_type": "code",
   "execution_count": 72,
   "metadata": {},
   "outputs": [
    {
     "name": "stdout",
     "output_type": "stream",
     "text": [
      "Three zeros and number one: 0001\n",
      "Three zeros and number one: 0001\n"
     ]
    }
   ],
   "source": [
    "# other formatting related stuff\n",
    "print('Three zeros and number one: {:04d}'.format(1))\n",
    "print('Three zeros and number one: %04d' % 1)"
   ]
  },
  {
   "cell_type": "code",
   "execution_count": 74,
   "metadata": {},
   "outputs": [
    {
     "name": "stdout",
     "output_type": "stream",
     "text": [
      "False\n"
     ]
    }
   ],
   "source": [
    "ans  = \"Happy\" in greetings\n",
    "print(ans)\n",
    "\n",
    "ans  = \"happy\" in greetings\n",
    "print(ans)"
   ]
  },
  {
   "cell_type": "code",
   "execution_count": null,
   "metadata": {},
   "outputs": [],
   "source": []
  }
 ],
 "metadata": {
  "kernelspec": {
   "display_name": "Python 3",
   "language": "python",
   "name": "python3"
  },
  "language_info": {
   "codemirror_mode": {
    "name": "ipython",
    "version": 3
   },
   "file_extension": ".py",
   "mimetype": "text/x-python",
   "name": "python",
   "nbconvert_exporter": "python",
   "pygments_lexer": "ipython3",
   "version": "3.7.1"
  }
 },
 "nbformat": 4,
 "nbformat_minor": 2
}
