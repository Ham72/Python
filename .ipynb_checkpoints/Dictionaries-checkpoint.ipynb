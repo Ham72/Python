{
 "cells": [
  {
   "cell_type": "code",
   "execution_count": 1,
   "metadata": {},
   "outputs": [],
   "source": [
    "stuff = ['hello', 'hi', 'how are you doing', 'im fine', 'how about you']\n",
    "for thing in stuff:\n",
    "    stuff.remove(thing)"
   ]
  },
  {
   "cell_type": "code",
   "execution_count": 3,
   "metadata": {},
   "outputs": [
    {
     "name": "stdout",
     "output_type": "stream",
     "text": [
      "['hi', 'im fine']\n",
      "[]\n"
     ]
    }
   ],
   "source": [
    "print(stuff)\n",
    "# a[:] = []\n",
    "# OR\n",
    "stuff.clear()\n",
    "print(stuff)"
   ]
  },
  {
   "cell_type": "code",
   "execution_count": 4,
   "metadata": {},
   "outputs": [
    {
     "name": "stdout",
     "output_type": "stream",
     "text": [
      "{'server': 'db.diveintopython3.org', 'database': 'mysql'}\n"
     ]
    }
   ],
   "source": [
    "a_dict = {'server': 'db.diveintopython3.org', 'database': 'mysql'}\n",
    "print(a_dict)"
   ]
  },
  {
   "cell_type": "code",
   "execution_count": 6,
   "metadata": {},
   "outputs": [],
   "source": [
    "#print(globals())"
   ]
  },
  {
   "cell_type": "code",
   "execution_count": 10,
   "metadata": {},
   "outputs": [
    {
     "name": "stdout",
     "output_type": "stream",
     "text": [
      "db.diveintopython3.org\n",
      "{'server': 'db.diveintopython3.org', 'database': 'blog'}\n",
      "{'server': 'db.diveintopython3.org', 'database': 'blog', 'user': 'mark'}\n"
     ]
    }
   ],
   "source": [
    "print(a_dict['server'])\n",
    "a_dict['database'] = 'blog'\n",
    "print(a_dict)\n",
    "\n",
    "a_dict['user'] = 'mark'\n",
    "print(a_dict)\n"
   ]
  },
  {
   "cell_type": "code",
   "execution_count": 15,
   "metadata": {},
   "outputs": [
    {
     "name": "stdout",
     "output_type": "stream",
     "text": [
      "dict_keys(['server', 'database', 'user'])\n",
      "dict_values(['db.diveintopython3.org', 'blog', 'mark'])\n",
      "dict_items([('server', 'db.diveintopython3.org'), ('database', 'blog'), ('user', 'mark')])\n"
     ]
    }
   ],
   "source": [
    "print(a_dict.keys())\n",
    "print(a_dict.values())\n",
    "print(a_dict.items())"
   ]
  },
  {
   "cell_type": "code",
   "execution_count": 14,
   "metadata": {},
   "outputs": [
    {
     "name": "stdout",
     "output_type": "stream",
     "text": [
      "db.diveintopython3.org\n",
      "blog\n",
      "mark\n"
     ]
    }
   ],
   "source": [
    "# iteration in dictionaries\n",
    "for items in a_dict.values():\n",
    "    print(items)\n",
    "    \n",
    "    \n",
    "for key, val in a_dict.items():\n",
    "    print(\"{} are {}'s items in dictionary\".format(key, val))    "
   ]
  },
  {
   "cell_type": "code",
   "execution_count": null,
   "metadata": {},
   "outputs": [],
   "source": []
  }
 ],
 "metadata": {
  "kernelspec": {
   "display_name": "Python 3",
   "language": "python",
   "name": "python3"
  },
  "language_info": {
   "codemirror_mode": {
    "name": "ipython",
    "version": 3
   },
   "file_extension": ".py",
   "mimetype": "text/x-python",
   "name": "python",
   "nbconvert_exporter": "python",
   "pygments_lexer": "ipython3",
   "version": "3.7.1"
  }
 },
 "nbformat": 4,
 "nbformat_minor": 2
}
