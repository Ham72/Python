{
 "cells": [
  {
   "cell_type": "code",
   "execution_count": 7,
   "metadata": {},
   "outputs": [
    {
     "name": "stdout",
     "output_type": "stream",
     "text": [
      "Hello\n",
      "<class 'builtin_function_or_method'>\n",
      "hello\n",
      "world\n",
      "Hello World!\n",
      "42 is an integer, and the value of pi is 3.14\n"
     ]
    }
   ],
   "source": [
    "#Function\n",
    "print(\"Hello\")\n",
    "print(type(print))\n",
    "\n",
    "#\\n for newline\n",
    "print('hello\\nworld')\n",
    "\n",
    "#We can also pass multiple arguments to the print function. We need to separate them with commas and print will add spaces between them.\n",
    "print(\"Hello\", \"World!\")\n",
    "print(42, \"is an integer, and the value of pi is\", 3.14)"
   ]
  },
  {
   "cell_type": "code",
   "execution_count": 4,
   "metadata": {},
   "outputs": [
    {
     "name": "stdout",
     "output_type": "stream",
     "text": [
      "Enter something:112\n",
      "112\n"
     ]
    }
   ],
   "source": [
    "roll_number = input(\"Enter something:\")\n",
    "print(roll_number)"
   ]
  },
  {
   "cell_type": "code",
   "execution_count": 8,
   "metadata": {},
   "outputs": [
    {
     "name": "stdout",
     "output_type": "stream",
     "text": [
      "3/2\n"
     ]
    }
   ],
   "source": [
    "import fractions\n",
    "\n",
    "result = fractions.Fraction(6, 4)\n",
    "print(result)\n"
   ]
  },
  {
   "cell_type": "code",
   "execution_count": null,
   "metadata": {},
   "outputs": [],
   "source": [
    "import math\n",
    "\n",
    "print(\"pi value :\", math.pi)"
   ]
  }
 ],
 "metadata": {
  "kernelspec": {
   "display_name": "Python 3",
   "language": "python",
   "name": "python3"
  },
  "language_info": {
   "codemirror_mode": {
    "name": "ipython",
    "version": 3
   },
   "file_extension": ".py",
   "mimetype": "text/x-python",
   "name": "python",
   "nbconvert_exporter": "python",
   "pygments_lexer": "ipython3",
   "version": "3.7.1"
  }
 },
 "nbformat": 4,
 "nbformat_minor": 2
}
