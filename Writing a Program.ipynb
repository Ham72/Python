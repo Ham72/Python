{
 "cells": [
  {
   "cell_type": "code",
   "execution_count": 1,
   "metadata": {},
   "outputs": [],
   "source": [
    "def read_questions(filename):\n",
    "    answers = {}\n",
    "    with open(filename, 'r') as f:\n",
    "        for line in f:\n",
    "            line = line.strip()\n",
    "            if line != '':\n",
    "                question, answer = line.split('=')\n",
    "                answers[question.strip()] = answer.strip()\n",
    "    return answers"
   ]
  },
  {
   "cell_type": "code",
   "execution_count": 2,
   "metadata": {},
   "outputs": [
    {
     "data": {
      "text/plain": [
       "{'text displaying function': 'print', 'text asking function': 'input'}"
      ]
     },
     "execution_count": 2,
     "metadata": {},
     "output_type": "execute_result"
    }
   ],
   "source": [
    "read_questions('questions.txt')"
   ]
  },
  {
   "cell_type": "code",
   "execution_count": 3,
   "metadata": {},
   "outputs": [],
   "source": [
    "def ask_questions(answers):\n",
    "    correct = []\n",
    "    wrong = []\n",
    "\n",
    "    for question, answer in answers.items():\n",
    "        if input(question + ' = ').strip() == answer:\n",
    "            print(\"Correct!\")\n",
    "            correct.append(question)\n",
    "        else:\n",
    "            print(\"Wrong! The correct answer is %s.\" % answer)\n",
    "            wrong.append(question)\n",
    "\n",
    "    return (correct, wrong)\n",
    "\n",
    "\n",
    "def stats(correct, wrong, answers):\n",
    "    print(\"\\n**** STATS ****\\n\")\n",
    "    print(\"You answered\", len(correct), \"questions correctly and\",\n",
    "          len(wrong), \"questions wrong.\")\n",
    "\n",
    "    if wrong:\n",
    "        print(\"These would have been the correct answers:\")\n",
    "        for question in wrong:\n",
    "            print(' ', question, '=', answers[question])"
   ]
  },
  {
   "cell_type": "code",
   "execution_count": 7,
   "metadata": {},
   "outputs": [
    {
     "name": "stdout",
     "output_type": "stream",
     "text": [
      "text displaying function = a v v\n",
      "Wrong! The correct answer is print.\n",
      "text asking function = a v v\n",
      "Wrong! The correct answer is input.\n",
      "\n",
      "**** STATS ****\n",
      "\n",
      "You answered 0 questions correctly and 2 questions wrong.\n",
      "These would have been the correct answers:\n",
      "  text displaying function = print\n",
      "  text asking function = input\n"
     ]
    }
   ],
   "source": [
    "answers = read_questions('questions.txt')\n",
    "correct, wrong = ask_questions(answers)\n",
    "stats(correct, wrong, answers)"
   ]
  },
  {
   "cell_type": "markdown",
   "metadata": {},
   "source": [
    "### Main function"
   ]
  },
  {
   "cell_type": "code",
   "execution_count": 8,
   "metadata": {},
   "outputs": [],
   "source": [
    "def main():\n",
    "    filename = input(\"Name of the question file: \")\n",
    "    answers = read_questions(filename)\n",
    "    correct, wrong = ask_questions(answers)\n",
    "    stats(correct, wrong, answers)"
   ]
  },
  {
   "cell_type": "code",
   "execution_count": 12,
   "metadata": {},
   "outputs": [
    {
     "name": "stdout",
     "output_type": "stream",
     "text": [
      "Name of the question file: questions.txt\n",
      "text displaying function = print\n",
      "Correct!\n",
      "text asking function = input\n",
      "Correct!\n",
      "\n",
      "**** STATS ****\n",
      "\n",
      "You answered 2 questions correctly and 0 questions wrong.\n"
     ]
    }
   ],
   "source": [
    "if __name__ == '__main__':\n",
    "    main()"
   ]
  },
  {
   "cell_type": "code",
   "execution_count": null,
   "metadata": {},
   "outputs": [],
   "source": []
  }
 ],
 "metadata": {
  "kernelspec": {
   "display_name": "Python 3",
   "language": "python",
   "name": "python3"
  },
  "language_info": {
   "codemirror_mode": {
    "name": "ipython",
    "version": 3
   },
   "file_extension": ".py",
   "mimetype": "text/x-python",
   "name": "python",
   "nbconvert_exporter": "python",
   "pygments_lexer": "ipython3",
   "version": "3.7.1"
  }
 },
 "nbformat": 4,
 "nbformat_minor": 2
}
