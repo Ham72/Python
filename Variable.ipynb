{
 "cells": [
  {
   "cell_type": "code",
   "execution_count": 29,
   "metadata": {},
   "outputs": [
    {
     "name": "stdout",
     "output_type": "stream",
     "text": [
      "x: 1\n",
      "y: 2\n",
      "x: 10\n",
      "y: 1\n",
      "type : <class 'int'>\n",
      "x: 12\n",
      "x: 10\n",
      "x: 20\n",
      "x: 10.0\n",
      "type : <class 'float'>\n",
      "any body there!!any body there!!any body there!!I'm waiting at the door.\n",
      "type : <class 'str'>\n"
     ]
    }
   ],
   "source": [
    "x=1\n",
    "y=2\n",
    "\n",
    "print(\"x:\",x)\n",
    "print(\"y:\",y)\n",
    "\n",
    "\n",
    "y=x\n",
    "x=10\n",
    "\n",
    "print(\"x:\",x)\n",
    "print(\"y:\",y)\n",
    "\n",
    "print(\"type :\",type(x))\n",
    "\n",
    "x +=2\n",
    "print(\"x:\",x)\n",
    "x -=2\n",
    "print(\"x:\",x)\n",
    "x *=2\n",
    "print(\"x:\",x)\n",
    "x /=2\n",
    "print(\"x:\",x)\n",
    "\n",
    "print(\"type :\",type(x))\n",
    "\n",
    "# not limited to integers\n",
    "x = \"any body there!!\"\n",
    "x *= 3\n",
    "x += \"I'm waiting at the door.\"\n",
    "\n",
    "print(x)\n",
    "\n",
    "print(\"type :\",type(x))"
   ]
  },
  {
   "cell_type": "code",
   "execution_count": 12,
   "metadata": {},
   "outputs": [
    {
     "name": "stdout",
     "output_type": "stream",
     "text": [
      "123\n",
      "Opening the door wait!\n"
     ]
    }
   ],
   "source": [
    "# variable names\n",
    "\n",
    "#we should use simple, lowercase variable names or underscores\n",
    "account_num = 123\n",
    "reply = \"Opening the door wait!\"\n",
    "\n",
    "print(account_num)\n",
    "print(reply)\n",
    "\n",
    "\n",
    "# don't use this\n",
    "accountNum = 123 #looks wierd\n",
    "Reply =\"Hi\" # also look odd\n",
    "x = \"Welcome back\" # x does not convey anything informative!!"
   ]
  },
  {
   "cell_type": "code",
   "execution_count": 24,
   "metadata": {},
   "outputs": [
    {
     "name": "stdout",
     "output_type": "stream",
     "text": [
      "1\n",
      "True\n",
      "False\n",
      "True\n",
      "True + True: 2\n",
      "True + False: 1\n",
      "False + True: 1\n",
      "False + False: 0\n",
      "True * False 0\n"
     ]
    }
   ],
   "source": [
    "# Boolean \n",
    "a=1\n",
    "\n",
    "print (a)\n",
    "print(a==1)\n",
    "\n",
    "a=2\n",
    "\n",
    "print(a==1)\n",
    "\n",
    "a= True  # True correspond to one and False is 0\n",
    "print(a==1)\n",
    "\n",
    "print(\"True + True:\", True + True)\n",
    "print(\"True + False:\", True + False)\n",
    "print(\"False + True:\", False + True)\n",
    "print(\"False + False:\",False + False)\n",
    "\n",
    "print(\"True * False\", True * False)"
   ]
  },
  {
   "cell_type": "code",
   "execution_count": 39,
   "metadata": {},
   "outputs": [
    {
     "name": "stdout",
     "output_type": "stream",
     "text": [
      "var1 : 2\n",
      "var1 : 2.0\n",
      "var1 : 2\n",
      "var2 : 2.5\n",
      "var2 : 2\n"
     ]
    }
   ],
   "source": [
    "# Converting floats to int\n",
    "\n",
    "var1 = 2\n",
    "print(\"var1 :\", var1)\n",
    "var1 = float(2)\n",
    "print(\"var1 :\", var1)\n",
    "\n",
    "var1 = int(var1)\n",
    "print(\"var1 :\", var1)\n",
    "\n",
    "var2 = 2.5\n",
    "print(\"var2 :\", var2)\n",
    "var2 = int(var2)\n",
    "print(\"var2 :\", var2)"
   ]
  },
  {
   "cell_type": "code",
   "execution_count": 47,
   "metadata": {},
   "outputs": [
    {
     "name": "stdout",
     "output_type": "stream",
     "text": [
      "5.5\n",
      "5\n",
      "-5.5\n",
      "5.0\n",
      "2^5: 32\n"
     ]
    }
   ],
   "source": [
    "# Numerical Operation\n",
    "print (11/2)\n",
    "print(11//2)\n",
    "print(-11/2)\n",
    "print(11.0//2)\n",
    "\n",
    "#power\n",
    "print(\"2^5:\",2 ** 5)"
   ]
  },
  {
   "cell_type": "markdown",
   "metadata": {},
   "source": [
    "### Scope of variable"
   ]
  },
  {
   "cell_type": "code",
   "execution_count": 2,
   "metadata": {},
   "outputs": [
    {
     "name": "stdout",
     "output_type": "stream",
     "text": [
      "3\n",
      "0\n"
     ]
    }
   ],
   "source": [
    "\n",
    "a = 0\n",
    "\n",
    "def my_function():\n",
    "    a = 3\n",
    "    print(a)\n",
    "\n",
    "my_function()\n",
    "\n",
    "print(a)"
   ]
  },
  {
   "cell_type": "code",
   "execution_count": 3,
   "metadata": {},
   "outputs": [
    {
     "name": "stdout",
     "output_type": "stream",
     "text": [
      "3\n",
      "3\n"
     ]
    }
   ],
   "source": [
    "a = 0\n",
    "\n",
    "def my_function():\n",
    "    global a\n",
    "    a = 3\n",
    "    print(a)\n",
    "\n",
    "my_function()\n",
    "\n",
    "print(a)"
   ]
  },
  {
   "cell_type": "markdown",
   "metadata": {},
   "source": [
    "### Constant variable"
   ]
  },
  {
   "cell_type": "code",
   "execution_count": 4,
   "metadata": {},
   "outputs": [],
   "source": [
    "# These variables are \"constants\" by convention:\n",
    "NUMBER_OF_DAYS_IN_A_WEEK = 7"
   ]
  },
  {
   "cell_type": "code",
   "execution_count": null,
   "metadata": {},
   "outputs": [],
   "source": []
  }
 ],
 "metadata": {
  "kernelspec": {
   "display_name": "Python 3",
   "language": "python",
   "name": "python3"
  },
  "language_info": {
   "codemirror_mode": {
    "name": "ipython",
    "version": 3
   },
   "file_extension": ".py",
   "mimetype": "text/x-python",
   "name": "python",
   "nbconvert_exporter": "python",
   "pygments_lexer": "ipython3",
   "version": "3.7.1"
  }
 },
 "nbformat": 4,
 "nbformat_minor": 2
}
