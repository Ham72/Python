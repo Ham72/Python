{
 "cells": [
  {
   "cell_type": "markdown",
   "metadata": {},
   "source": [
    "\n",
    "# Lists"
   ]
  },
  {
   "cell_type": "code",
   "execution_count": null,
   "metadata": {},
   "outputs": [],
   "source": [
    "# Creating list\n",
    "fruits =[\"apple\",\"mango\",\"orange\",\"banana\"]\n",
    "print(\"length of list fruits :\", len(fruits))\n",
    "\n",
    "# what if we have differnt types in same list\n",
    "zee = [1,2,'name', 2, [\"asd\"]]\n",
    "print(zee)\n"
   ]
  },
  {
   "cell_type": "code",
   "execution_count": 2,
   "metadata": {},
   "outputs": [
    {
     "name": "stdout",
     "output_type": "stream",
     "text": [
      "1\n",
      "['asd']\n",
      "['apple', 'mango']\n",
      "['apple', 'mango', 'orange', 'banana']\n",
      "['mango', 'orange', 'banana']\n"
     ]
    }
   ],
   "source": [
    "#Indezing list\n",
    "#list indexing is similar to string indexing\n",
    "print(zee[0])\n",
    "print(zee[-1])\n",
    "\n",
    "#----------------------------\n",
    "\n",
    "print(fruits[:2]) # excluding element at index 2\n",
    "print(fruits[:])\n",
    "print(fruits[1:]) # elements from index 1 to last\n"
   ]
  },
  {
   "cell_type": "markdown",
   "metadata": {},
   "source": [
    "* The + operator concatenates lists to create a new list. . In this case, that new list is immediately assigned to the existing variable a_list . So this line of code is really a two-step process — concatenation thenassignment — which can (temporarily) consume a lot of memory when you’re dealing with large lists\n",
    "\n",
    "* append() method add just one element, and that one element is added at the end of the list\n",
    "* The extend() method takes one argument, a list, and appends each of the items of the argument to the original list.\n",
    "* The insert() method inserts a single item into a list. The first argument is the index of the first item in thelist that will get bumped out of position\n"
   ]
  },
  {
   "cell_type": "code",
   "execution_count": 3,
   "metadata": {},
   "outputs": [
    {
     "name": "stdout",
     "output_type": "stream",
     "text": [
      "['apple', 'mango', 'orange', 'banana']\n",
      "['apple', 'mango', 'orange', 'banana', 'peach']\n",
      "['apple', 'mango', 'orange', 'banana', 'peach', 'grapes']\n",
      "['apple', 'mango', 'orange', 'banana', 'peach', 'grapes', 'apricot', 'watermelon']\n",
      "['pineapple', 'apple', 'mango', 'orange', 'banana', 'peach', 'grapes', 'apricot', 'watermelon']\n"
     ]
    }
   ],
   "source": [
    "# Adding Elements to list\n",
    "fruits+['peach'] # concatination with + sign\n",
    "print(fruits)\n",
    "\n",
    "fruits = fruits+['peach'] # have to re assign value, otherwise list will not be updated\n",
    "print(fruits)\n",
    "\n",
    "fruits.append('grapes')  # append only 'one' element at the last\n",
    "print(fruits)\n",
    "\n",
    "fruits.extend(['apricot','watermelon']) # extend method takes list as argument\n",
    "print(fruits)\n",
    "\n",
    "fruits.insert(0,'pineapple') # take 2 args\n",
    "print(fruits)"
   ]
  },
  {
   "cell_type": "code",
   "execution_count": 4,
   "metadata": {},
   "outputs": [
    {
     "name": "stdout",
     "output_type": "stream",
     "text": [
      "2\n",
      "1\n"
     ]
    }
   ],
   "source": [
    "# Searching for value in list\n",
    "print(zee.count(2))\n",
    "print(zee.index(2))# 1st occurance\n",
    "#print(zee.index(\"apple\"))\n",
    "\n"
   ]
  },
  {
   "cell_type": "code",
   "execution_count": 5,
   "metadata": {},
   "outputs": [
    {
     "name": "stdout",
     "output_type": "stream",
     "text": [
      "element not present in the list\n"
     ]
    }
   ],
   "source": [
    "# the above line is commented otherwise it will give error. To solve this problem check if elment is present or not\n",
    "if \"apple\" in zee:\n",
    "    print(zee.index('apple'))\n",
    "else:\n",
    "    print('element not present in the list')"
   ]
  },
  {
   "cell_type": "code",
   "execution_count": 6,
   "metadata": {},
   "outputs": [
    {
     "name": "stdout",
     "output_type": "stream",
     "text": [
      "['pineapple', 'mango', 'orange', 'banana', 'peach', 'grapes', 'apricot', 'watermelon']\n",
      "['mango', 'orange', 'banana', 'peach', 'grapes', 'apricot', 'watermelon']\n"
     ]
    }
   ],
   "source": [
    "#Removing items from list\n",
    "\n",
    "del fruits[1]\n",
    "print(fruits)\n",
    "\n",
    "fruits.remove('pineapple')\n",
    "print(fruits)"
   ]
  },
  {
   "cell_type": "code",
   "execution_count": 7,
   "metadata": {},
   "outputs": [
    {
     "name": "stdout",
     "output_type": "stream",
     "text": [
      "removed element : watermelon\n",
      "['mango', 'orange', 'banana', 'peach', 'grapes', 'apricot']\n",
      "removed element : banana\n",
      "['mango', 'orange', 'peach', 'grapes', 'apricot']\n"
     ]
    }
   ],
   "source": [
    "# More on removing items from list\n",
    "\n",
    "name  = fruits.pop()\n",
    "print(\"removed element :\",name)\n",
    "print(fruits) # remove the last element from the list\n",
    "\n",
    "name = fruits.pop(2) # specify the index from which value should be removed\n",
    "print(\"removed element :\",name)\n",
    "print(fruits) "
   ]
  },
  {
   "cell_type": "code",
   "execution_count": 8,
   "metadata": {},
   "outputs": [
    {
     "name": "stdout",
     "output_type": "stream",
     "text": [
      "['mango', 'orange', 'peach', 'apple', 'apricot']\n"
     ]
    }
   ],
   "source": [
    "# List are mutalble... Are u guessing where I'm heading \n",
    "# we can change the value of list element that is ... list can be changed in-place\n",
    "\n",
    "fruits[3] = \"apple\"\n",
    "print(fruits)"
   ]
  },
  {
   "cell_type": "markdown",
   "metadata": {},
   "source": [
    "Empty list are fasle, all other lists are true"
   ]
  },
  {
   "cell_type": "code",
   "execution_count": 14,
   "metadata": {},
   "outputs": [
    {
     "name": "stdout",
     "output_type": "stream",
     "text": [
      "hello world\n",
      "oe\n"
     ]
    }
   ],
   "source": [
    "# Reversing a string or list\n",
    "hello = 'dlrow olleh'\n",
    "print(hello[::-1])\n",
    "temp = \"hello\"\n",
    "print(temp[::-3])"
   ]
  },
  {
   "cell_type": "code",
   "execution_count": 22,
   "metadata": {},
   "outputs": [
    {
     "name": "stdout",
     "output_type": "stream",
     "text": [
      "[1, 2, 3, 4]\n",
      "True\n",
      "False\n",
      "False\n",
      "False\n",
      "[1, 2, 3, 4]\n",
      "[1, 2, 3]\n"
     ]
    }
   ],
   "source": [
    "a = [1, 2, 3]\n",
    "b =a\n",
    "b.append(4)\n",
    "print(a)\n",
    "\n",
    "# to check if both var pointing to same list\n",
    "print(a is b)\n",
    "\n",
    "print([] is [])\n",
    "print([1, 2, 3] is [1, 2, 3])\n",
    "\n",
    "#If we need a new list with similar content we can use the copy method.\n",
    "a = [1, 2, 3]\n",
    "b = a.copy()\n",
    "print(b is a)\n",
    "b.append(4)\n",
    "print(b)\n",
    "print(a)"
   ]
  },
  {
   "cell_type": "markdown",
   "metadata": {},
   "source": [
    "## Tuples\n",
    "A tuple is an immutable list. A tuple can not be changed in any way once it is created.\n",
    "\n",
    "Tuples are a lot like lists, but they're immutable so they can't be changed in-place\n",
    "\n",
    "Tuples don't have methods like append, extend and remove because they can't change themselves in-place.\n",
    "\n",
    "Slicing works too, just like a list. When you slice a list, you get a new list; when you slice a tuple, you get a\n",
    "new tuple."
   ]
  },
  {
   "cell_type": "code",
   "execution_count": 32,
   "metadata": {},
   "outputs": [
    {
     "name": "stdout",
     "output_type": "stream",
     "text": [
      "('a', 'b', 'mpilgrim', 'z', 'example', 1, ['a'])\n",
      "()\n",
      "9\n",
      "\n",
      "(1, 2, 3)\n"
     ]
    }
   ],
   "source": [
    "a_tuple = (\"a\", \"b\", \"mpilgrim\", \"z\", \"example\",1,[\"a\"])\n",
    "print(a_tuple)\n",
    "\n",
    "a_tuple = ()\n",
    "print(a_tuple)\n",
    "\n",
    "#--------------------------\n",
    "\n",
    "print((1 + 2) * 3) # result is not tuple\n",
    "(1 + 2,) * 3 # result is tuple\n",
    "\n",
    "#--------------------------\n",
    "#It's also possible to create tuples by just separating things with commas and adding no parentheses\n",
    "a = 1,2,3\n",
    "print(a)"
   ]
  },
  {
   "cell_type": "markdown",
   "metadata": {},
   "source": [
    "Tuples are faster than lists. If you’re defining a constant set of values and all you’re ever going to do with it\n",
    "is iterate through it, use a tuple instead of a list.\n",
    "\n",
    "• It makes your code safer if you “write-protect” data that doesn’t need to be changed. Using a tuple instead\n",
    "of a list is like having an implied assert statement that shows this data is constant, and that special thought\n",
    "(and a specific function) is required to override that.\n",
    "\n",
    "• Some tuples can be used as dictionary keys, as you’ll see later in this chapter. (Lists can never be used as\n",
    "dictionary keys.)"
   ]
  },
  {
   "cell_type": "code",
   "execution_count": 39,
   "metadata": {},
   "outputs": [
    {
     "name": "stdout",
     "output_type": "stream",
     "text": [
      "['mango', 'orange', 'peach', 'apple', 'apricot']\n",
      "['mango', 'orange', 'peach', 'apple', 'apricot']\n",
      "['mango', 'orange', 'peach', 'apple', 'apricot']\n",
      "['orange', 'peach', 'apple', 'apricot']\n",
      "['orange', 'peach', 'apple', 'apricot']\n"
     ]
    }
   ],
   "source": [
    "#Ignore this for now\n",
    "print(fruits)\n",
    "print(fruits[::1])\n",
    "print(fruits[::])\n",
    "print(fruits[1:])\n",
    "print(fruits[1::])\n"
   ]
  },
  {
   "cell_type": "code",
   "execution_count": null,
   "metadata": {},
   "outputs": [],
   "source": []
  }
 ],
 "metadata": {
  "kernelspec": {
   "display_name": "Python 3",
   "language": "python",
   "name": "python3"
  },
  "language_info": {
   "codemirror_mode": {
    "name": "ipython",
    "version": 3
   },
   "file_extension": ".py",
   "mimetype": "text/x-python",
   "name": "python",
   "nbconvert_exporter": "python",
   "pygments_lexer": "ipython3",
   "version": "3.7.1"
  }
 },
 "nbformat": 4,
 "nbformat_minor": 2
}
