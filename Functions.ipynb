{
 "cells": [
  {
   "cell_type": "code",
   "execution_count": null,
   "metadata": {},
   "outputs": [],
   "source": [
    "# lets define a function that does nothing\n",
    "\n",
    "def do_nothing():\n",
    "    pass\n",
    "\n",
    "print(do_nothing())"
   ]
  },
  {
   "cell_type": "markdown",
   "metadata": {},
   "source": [
    "Example of ### keyword argument"
   ]
  },
  {
   "cell_type": "code",
   "execution_count": null,
   "metadata": {},
   "outputs": [],
   "source": [
    "def print_twice(message):\n",
    "    print(message)\n",
    "    print(message)\n",
    "\n",
    "    \n",
    "print_twice(message=\"hi\") # Example of key word argument"
   ]
  },
  {
   "cell_type": "markdown",
   "metadata": {},
   "source": [
    "Example of 'positional' argument"
   ]
  },
  {
   "cell_type": "code",
   "execution_count": null,
   "metadata": {},
   "outputs": [],
   "source": [
    "def print_box(message):\n",
    "    print('*' * len(message))\n",
    "    print(message)\n",
    "    print('*' * len(message))\n",
    "    \n",
    "print_box(\"hello\") # Example of positional argument\n",
    "\n",
    "# what if we want to pass character as well"
   ]
  },
  {
   "cell_type": "markdown",
   "metadata": {},
   "source": [
    "### Default values"
   ]
  },
  {
   "cell_type": "code",
   "execution_count": null,
   "metadata": {},
   "outputs": [],
   "source": [
    "# Using two positional arguments\n",
    "\n",
    "def print_box(message, character):\n",
    "    print(character * len(message))\n",
    "    print(message)\n",
    "    print(character * len(message))\n",
    "    \n",
    "print_box(\"Python\",\"@\")    # Using two positional arguments"
   ]
  },
  {
   "cell_type": "code",
   "execution_count": null,
   "metadata": {},
   "outputs": [],
   "source": [
    " # Using two keyword arguments\n",
    "\n",
    "def print_box(message, character):\n",
    "    print(character * len(message))\n",
    "    print(message)\n",
    "    print(character * len(message))\n",
    "    \n",
    "print_box(message=\"Python\",character= \"@\")# Using two keyword arguments, keryword should have same name\n",
    "\n",
    "print(\"----------------------------------\")\n",
    "# What if we swap positions of 'keyword arguments', but keep the name same????????\n",
    "#Ans : It works fine in case of keyword args\n",
    "print_box(character= \"@\", message=\"Python\")\n",
    "\n",
    "print(\"-\"*30)\n",
    "# What if we swap position of positional args?? w\n",
    "# Ans : It does not give the right ans, as function will not able to distinguish\n",
    "print_box(\"@\", \"Python\")"
   ]
  },
  {
   "cell_type": "markdown",
   "metadata": {},
   "source": [
    " We can make the second argument optional by giving it a default value."
   ]
  },
  {
   "cell_type": "code",
   "execution_count": null,
   "metadata": {},
   "outputs": [],
   "source": [
    "def print_box(message, character=\"*\"):\n",
    "    print(character * len(message))\n",
    "    print(message)\n",
    "    print(character * len(message))\n",
    "    \n",
    "print_box(\"Python\")  \n",
    "print_box(\"Python\", \"-\")  "
   ]
  },
  {
   "cell_type": "code",
   "execution_count": null,
   "metadata": {},
   "outputs": [],
   "source": [
    "def print_box(message, character=\"*\"):\n",
    "    print(character * len(message))\n",
    "    print(message)\n",
    "    print(character * len(message))\n",
    "    \n",
    "print_box(\"Python\")  \n",
    "print_box(\"*\", message =\"hello\")  # does not work!!"
   ]
  },
  {
   "cell_type": "markdown",
   "metadata": {},
   "source": [
    "### multile default arguments"
   ]
  },
  {
   "cell_type": "code",
   "execution_count": null,
   "metadata": {},
   "outputs": [],
   "source": [
    "def make_greeting(title, name, surname, formal=True, time=None):\n",
    "    if formal:\n",
    "        fullname =  \"%s %s\" % (title, surname)\n",
    "    else:\n",
    "        fullname = name\n",
    "\n",
    "    if time is None:\n",
    "        greeting = \"Hello\"\n",
    "    else:\n",
    "        greeting = \"Good %s\" % time\n",
    "\n",
    "    return \"%s, %s!\" % (greeting, fullname)\n",
    "\n",
    "print(make_greeting(\"Mr\", \"John\", \"Smith\"))\n",
    "print(make_greeting(\"Mr\", \"John\", \"Smith\", False))\n",
    "print(make_greeting(\"Mr\", \"John\", \"Smith\", False, \"evening\"))"
   ]
  },
  {
   "cell_type": "markdown",
   "metadata": {},
   "source": [
    "We can specify keyword parameters in any order – they don’t have to match the order in the function definition:"
   ]
  },
  {
   "cell_type": "code",
   "execution_count": null,
   "metadata": {},
   "outputs": [],
   "source": [
    "print(make_greeting(surname=\"Smith\", name=\"John\", title=\"Mr\"))\n"
   ]
  },
  {
   "cell_type": "markdown",
   "metadata": {},
   "source": [
    "Now we can easily pass in the second optional parameter and not the first:"
   ]
  },
  {
   "cell_type": "code",
   "execution_count": null,
   "metadata": {},
   "outputs": [],
   "source": [
    "# passing second \n",
    "print(make_greeting(\"Mr\", \"John\", \"Smith\", time=\"evening\"))"
   ]
  },
  {
   "cell_type": "markdown",
   "metadata": {},
   "source": [
    "### Return from function"
   ]
  },
  {
   "cell_type": "code",
   "execution_count": null,
   "metadata": {},
   "outputs": [],
   "source": [
    "def return_none_1():\n",
    "    pass"
   ]
  },
  {
   "cell_type": "code",
   "execution_count": null,
   "metadata": {},
   "outputs": [],
   "source": [
    "def return_none_2():\n",
    "    return"
   ]
  },
  {
   "cell_type": "code",
   "execution_count": null,
   "metadata": {},
   "outputs": [],
   "source": [
    "print(return_none_1())\n",
    "print(return_none_2())"
   ]
  },
  {
   "cell_type": "markdown",
   "metadata": {},
   "source": [
    "### Mutable types and default parameters\n",
    "We should be careful when using mutable types as default parameter values in function definitions if we intend to modify them in-place:"
   ]
  },
  {
   "cell_type": "code",
   "execution_count": null,
   "metadata": {},
   "outputs": [],
   "source": [
    "def add_pet_to_list(pet, pets=[]):\n",
    "    pets.append(pet)\n",
    "    print(pets)\n",
    "    return pets\n",
    "\n",
    "list_with_cat = add_pet_to_list(\"cat\")\n",
    "list_with_dog = add_pet_to_list(\"dog\")\n",
    "list_with_horse = add_pet_to_list(\"horse\")\n",
    "\n",
    "#print(list_with_cat)\n",
    "#print(list_with_dog)\n",
    "print(list_with_horse)"
   ]
  },
  {
   "cell_type": "markdown",
   "metadata": {},
   "source": [
    "Remember that although we can execute a **function body many times**, a **function definition** is executed **only once** – that means that the empty list which is created in this function definition will be the same list for all instances of the function. What we really want to do in this case is to create an empty list inside the function body:"
   ]
  },
  {
   "cell_type": "code",
   "execution_count": null,
   "metadata": {},
   "outputs": [],
   "source": [
    "def add_pet_to_list(pet, pets=None):\n",
    "    if pets is None:\n",
    "        pets = []\n",
    "    pets.append(pet)\n",
    "    return pets\n",
    "\n",
    "\n",
    "list_with_cat = add_pet_to_list(\"cat\")\n",
    "list_with_dog = add_pet_to_list(\"dog\")\n",
    "list_with_horse = add_pet_to_list(\"horse\")\n",
    "\n",
    "print(list_with_cat)\n",
    "print(list_with_dog)\n",
    "print(list_with_horse)\n"
   ]
  },
  {
   "cell_type": "code",
   "execution_count": null,
   "metadata": {},
   "outputs": [],
   "source": [
    "def increment(pet, counter=0):\n",
    "    counter = counter+1\n",
    "    print(counter)\n",
    "    return counter\n",
    "\n",
    "fn_call_one = increment(\"cat\")\n",
    "fn_call_two = increment(\"dog\")"
   ]
  },
  {
   "cell_type": "markdown",
   "metadata": {},
   "source": [
    "## ***args and ***kwargs"
   ]
  },
  {
   "cell_type": "code",
   "execution_count": null,
   "metadata": {},
   "outputs": [],
   "source": [
    "def print_args(*args):\n",
    "    print(type(args))            # what's the difference b/w *args and args => \n",
    "    #print(*args)                 # *args is series of individuals, , uncomment to see individual values\n",
    "    #print(args)                   # args is tuple, uncomment to see tuple\n",
    "    for arg in args:\n",
    "        print(arg)\n",
    "    \n",
    "    print(\"-\"*30)\n",
    "    \n",
    "    \n",
    "print_args(\"one\", \"two\", \"three\")\n",
    "print_args(\"one\", \"two\", \"three\", \"four\") # the input parameter passed is tuple\n"
   ]
  },
  {
   "cell_type": "code",
   "execution_count": null,
   "metadata": {},
   "outputs": [],
   "source": [
    "def print_kwargs(**kwargs):\n",
    "    print(type(kwargs))\n",
    "    #print(kwargs)                 # kargs is a dictionary\n",
    "    for k, v in kwargs.items():\n",
    "        print(\"%s: %s\" % (k, v))\n",
    "        \n",
    "print_kwargs(name=\"Jane\", surname=\"Doe\") # input parameter is dictionary\n",
    "print_kwargs(age=10)"
   ]
  },
  {
   "cell_type": "markdown",
   "metadata": {},
   "source": [
    "We can use * or ** when we are calling a function to unpack a sequence or a dictionary into a series of individual parameters:"
   ]
  },
  {
   "cell_type": "code",
   "execution_count": null,
   "metadata": {},
   "outputs": [],
   "source": [
    "my_list = [\"one\", \"two\", \"three\"]\n",
    "print_args(*my_list)\n",
    "\n",
    "my_dict = {\"name\": \"Jane\", \"surname\": \"Doe\"}\n",
    "print_kwargs(**my_dict)"
   ]
  },
  {
   "cell_type": "markdown",
   "metadata": {},
   "source": [
    "This makes it easier to build lists of parameters programmatically. Note that we can use this for any function, not just one which uses *args or **kwargs:"
   ]
  },
  {
   "cell_type": "code",
   "execution_count": null,
   "metadata": {},
   "outputs": [],
   "source": [
    "my_dict = {\n",
    "    \"title\": \"Mr\",\n",
    "    \"name\": \"John\",\n",
    "    \"surname\": \"Smith\",\n",
    "    \"formal\": False,\n",
    "    \"time\": \"evening\",\n",
    "}\n",
    "\n",
    "print(make_greeting(**my_dict))"
   ]
  },
  {
   "cell_type": "code",
   "execution_count": null,
   "metadata": {},
   "outputs": [],
   "source": [
    "list_attr = [\"Mr\", \"John\", \"Smith\", True, \"evening\"]\n",
    "\n",
    "print(make_greeting(*list_attr))"
   ]
  },
  {
   "cell_type": "markdown",
   "metadata": {},
   "source": [
    "**Important point**\n",
    "We can mix ordinary parameters, *args and **kwargs in the same function definition. *args and **kwargs must come after all the other parameters, and **kwargs must come after *args. You cannot have more than one variable-length list parameter or more than one variable dict parameter (recall that you can call them whatever you like):"
   ]
  },
  {
   "cell_type": "code",
   "execution_count": 7,
   "metadata": {},
   "outputs": [],
   "source": [
    "def print_everything1(name, time=\"morning\", *args, **kwargs):\n",
    "    print(\"Good %s, %s.\" % (time, name))\n",
    "    print(\"hello..................\")\n",
    "\n",
    "    for arg in args:\n",
    "        print(arg)\n",
    "\n",
    "    for k, v in kwargs.items():\n",
    "        print(\"%s: %s\" % (k, v))"
   ]
  },
  {
   "cell_type": "code",
   "execution_count": 16,
   "metadata": {},
   "outputs": [],
   "source": [
    "def print_everything(*args, **kwargs):\n",
    "    print(\"In print_everything method args value :\",args)\n",
    "    for arg in args:\n",
    "        print(arg)\n",
    "\n",
    "    print(\"In print_everything method kwargs:\",kwargs)\n",
    "    for k, v in kwargs.items():\n",
    "        print(\"%s: %s\" % (k, v))\n"
   ]
  },
  {
   "cell_type": "code",
   "execution_count": 17,
   "metadata": {},
   "outputs": [
    {
     "name": "stdout",
     "output_type": "stream",
     "text": [
      "In print_everything method args value : ('cat', 'dog')\n",
      "cat\n",
      "dog\n",
      "In print_everything method kwargs: {'day': 'Tuesday'}\n",
      "day: Tuesday\n",
      "----------------------------------------\n",
      "In print_everything method args value : ('cat', 'dog')\n",
      "cat\n",
      "dog\n",
      "In print_everything method kwargs: {'day': 'Tuesday'}\n",
      "day: Tuesday\n",
      "----------------------------------------\n",
      "In print_everything method args value : ('cat', 'dog')\n",
      "cat\n",
      "dog\n",
      "In print_everything method kwargs: {'day': 'Tuesday'}\n",
      "day: Tuesday\n",
      "----------------------------------------\n",
      "In print_everything method args value : ('cat', 'dog')\n",
      "cat\n",
      "dog\n",
      "In print_everything method kwargs: {'day': 'Tuesday'}\n",
      "day: Tuesday\n"
     ]
    }
   ],
   "source": [
    "# we can write all the parameters individually\n",
    "print_everything(\"cat\", \"dog\", day=\"Tuesday\")\n",
    "print(\"--\"*20)\n",
    "\n",
    "#---------------------------------------------\n",
    "\n",
    "t = (\"cat\", \"dog\")\n",
    "d = {\"day\": \"Tuesday\"}\n",
    "# we can unpack a tuple and a dictionary\n",
    "print_everything(*t, **d)\n",
    "\n",
    "print(\"--\"*20)\n",
    "\n",
    "#---------------------------------------------\n",
    "\n",
    "# or just one of them\n",
    "print_everything(*t, day=\"Tuesday\")\n",
    "print(\"--\"*20)\n",
    "print_everything(\"cat\", \"dog\", **d)"
   ]
  },
  {
   "cell_type": "code",
   "execution_count": 18,
   "metadata": {},
   "outputs": [
    {
     "name": "stdout",
     "output_type": "stream",
     "text": [
      "In print_everything method args value : ('Jane', 'cat', 'dog')\n",
      "Jane\n",
      "cat\n",
      "dog\n",
      "In print_everything method kwargs: {'day': 'Tuesday'}\n",
      "day: Tuesday\n",
      "----------------------------------------\n",
      "In print_everything method args value : ('Jane', 'cat', 'dog')\n",
      "Jane\n",
      "cat\n",
      "dog\n",
      "In print_everything method kwargs: {'time': 'evening', 'day': 'Tuesday'}\n",
      "time: evening\n",
      "day: Tuesday\n",
      "----------------------------------------\n",
      "In print_everything method args value : ('cat', 'dog')\n",
      "cat\n",
      "dog\n",
      "In print_everything method kwargs: {'time': 'evening', 'day': 'Tuesday'}\n",
      "time: evening\n",
      "day: Tuesday\n"
     ]
    }
   ],
   "source": [
    "# we can mix * and ** with explicit parameters\n",
    "print_everything(\"Jane\", *t, **d)\n",
    "\n",
    "print(\"--\"*20)\n",
    "\n",
    "#---------------------------------------------\n",
    "print_everything(\"Jane\", *t, time=\"evening\", **d)\n",
    "print(\"--\"*20)\n",
    "\n",
    "#---------------------------------------------\n",
    "print_everything(time=\"evening\", *t, **d)"
   ]
  },
  {
   "cell_type": "code",
   "execution_count": 19,
   "metadata": {},
   "outputs": [
    {
     "name": "stdout",
     "output_type": "stream",
     "text": [
      "In print_everything method args value : ('cat', 'dog', 'Jane')\n",
      "cat\n",
      "dog\n",
      "Jane\n",
      "In print_everything method kwargs: {'day': 'Tuesday'}\n",
      "day: Tuesday\n",
      "----------------------------------------\n",
      "In print_everything method args value : ('cat', 'dog')\n",
      "cat\n",
      "dog\n",
      "In print_everything method kwargs: {'day': 'Tuesday', 'time': 'evening'}\n",
      "day: Tuesday\n",
      "time: evening\n"
     ]
    }
   ],
   "source": [
    "# none of these are allowed:\n",
    "print_everything(*t, \"Jane\", **d)\n",
    "print(\"--\"*20)\n",
    "print_everything(*t, **d, time=\"evening\")"
   ]
  },
  {
   "cell_type": "markdown",
   "metadata": {},
   "source": [
    "If a function takes only *args and **kwargs as its parameters, it can be called with any set of parameters. One or both of args and kwargs can be empty, so the function will accept any combination of positional and keyword parameters, including no parameters at all. This can be useful if we are writing a very generic function, like print_everything in the example above"
   ]
  },
  {
   "cell_type": "code",
   "execution_count": null,
   "metadata": {},
   "outputs": [],
   "source": []
  }
 ],
 "metadata": {
  "kernelspec": {
   "display_name": "Python 3",
   "language": "python",
   "name": "python3"
  },
  "language_info": {
   "codemirror_mode": {
    "name": "ipython",
    "version": 3
   },
   "file_extension": ".py",
   "mimetype": "text/x-python",
   "name": "python",
   "nbconvert_exporter": "python",
   "pygments_lexer": "ipython3",
   "version": "3.7.1"
  }
 },
 "nbformat": 4,
 "nbformat_minor": 2
}
