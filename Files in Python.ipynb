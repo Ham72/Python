{
 "cells": [
  {
   "cell_type": "markdown",
   "metadata": {},
   "source": [
    "## Creating and Writing to file\n",
    "Creating a file and writing Hello World! to it"
   ]
  },
  {
   "cell_type": "code",
   "execution_count": 5,
   "metadata": {},
   "outputs": [
    {
     "name": "stdout",
     "output_type": "stream",
     "text": [
      "True\n"
     ]
    }
   ],
   "source": [
    "with open('hello.txt', 'w') as f: \n",
    "    print(\"Hello World!\", file=f)\n",
    "    \n",
    "# open file with open()method\n",
    "# 1st argument is path\n",
    "# 2nd argument is write but does not append. Means it over writes and removes the content already written\n",
    "# as f is to ensure that file gets closed after writing \n",
    "print(f.closed)\n",
    "\n",
    "# When we had opened the file we could just print to it. The print is just like any other print, \n",
    "# but we also need to specify that we want to print to the file we opened using file=f."
   ]
  },
  {
   "cell_type": "markdown",
   "metadata": {},
   "source": [
    "## Reading from a file\n",
    "\n",
    "Reading a non existing file generates error"
   ]
  },
  {
   "cell_type": "code",
   "execution_count": 6,
   "metadata": {},
   "outputs": [
    {
     "name": "stdout",
     "output_type": "stream",
     "text": [
      "['Hello World!\\n']\n"
     ]
    }
   ],
   "source": [
    "lines = []\n",
    "with open('hello.txt', 'r') as f:\n",
    "    for line in f:\n",
    "        lines.append(line)\n",
    "        \n",
    "print(lines)        "
   ]
  },
  {
   "cell_type": "markdown",
   "metadata": {},
   "source": [
    "Writing and reading multiple lines"
   ]
  },
  {
   "cell_type": "code",
   "execution_count": 7,
   "metadata": {},
   "outputs": [
    {
     "name": "stdout",
     "output_type": "stream",
     "text": [
      "['Hello World!\\n', 'Hello two!\\n', 'Hello three!\\n']\n"
     ]
    }
   ],
   "source": [
    "with open('hello.txt', 'w') as f: \n",
    "    print(\"Hello World!\", file=f)\n",
    "    print(\"Hello two!\", file=f)\n",
    "    print(\"Hello three!\", file=f)\n",
    "    \n",
    "lines = []\n",
    "with open('hello.txt', 'r') as f:\n",
    "    for line in f:\n",
    "        lines.append(line)\n",
    "        \n",
    "print(lines)     "
   ]
  },
  {
   "cell_type": "code",
   "execution_count": 9,
   "metadata": {},
   "outputs": [
    {
     "name": "stdout",
     "output_type": "stream",
     "text": [
      "['Hello World!', 'Hello two!', 'Hello three!']\n"
     ]
    }
   ],
   "source": [
    "# Strip \\n\n",
    "\n",
    "stripped = []\n",
    "with open('hello.txt', 'r') as f:\n",
    "    for line in f:\n",
    "        stripped.append(line.rstrip('\\n')) # read line by line\n",
    "        \n",
    "print(stripped)\n"
   ]
  },
  {
   "cell_type": "markdown",
   "metadata": {},
   "source": [
    "For reading whole content at once!"
   ]
  },
  {
   "cell_type": "code",
   "execution_count": 10,
   "metadata": {},
   "outputs": [
    {
     "name": "stdout",
     "output_type": "stream",
     "text": [
      "Hello World!\n",
      "Hello two!\n",
      "Hello three!\n",
      "\n",
      "<class 'str'>\n"
     ]
    }
   ],
   "source": [
    "with open('hello.txt', 'r') as f:\n",
    "    full_content = f.read()\n",
    "\n",
    "print(full_content)\n",
    "print(type(full_content))"
   ]
  },
  {
   "cell_type": "code",
   "execution_count": 12,
   "metadata": {},
   "outputs": [
    {
     "name": "stdout",
     "output_type": "stream",
     "text": [
      "C:\\some\\name\n"
     ]
    }
   ],
   "source": [
    "path = '/home/hawk_pc/Python tutorial'\n",
    "\n",
    "\n",
    "print(r'C:\\some\\name')"
   ]
  },
  {
   "cell_type": "markdown",
   "metadata": {},
   "source": [
    "This program prints the contents of files:"
   ]
  },
  {
   "cell_type": "code",
   "execution_count": 13,
   "metadata": {},
   "outputs": [
    {
     "name": "stdout",
     "output_type": "stream",
     "text": [
      "Filename or path, or nothing at all to exit: hello.txt\n",
      "Hello World!\n",
      "Hello two!\n",
      "Hello three!\n",
      "Filename or path, or nothing at all to exit: ''\n"
     ]
    },
    {
     "ename": "FileNotFoundError",
     "evalue": "[Errno 2] No such file or directory: \"''\"",
     "output_type": "error",
     "traceback": [
      "\u001b[0;31m---------------------------------------------------------------------------\u001b[0m",
      "\u001b[0;31mFileNotFoundError\u001b[0m                         Traceback (most recent call last)",
      "\u001b[0;32m<ipython-input-13-2336e8ffe18a>\u001b[0m in \u001b[0;36m<module>\u001b[0;34m()\u001b[0m\n\u001b[1;32m      4\u001b[0m         \u001b[0;32mbreak\u001b[0m\u001b[0;34m\u001b[0m\u001b[0;34m\u001b[0m\u001b[0m\n\u001b[1;32m      5\u001b[0m \u001b[0;34m\u001b[0m\u001b[0m\n\u001b[0;32m----> 6\u001b[0;31m     \u001b[0;32mwith\u001b[0m \u001b[0mopen\u001b[0m\u001b[0;34m(\u001b[0m\u001b[0mfilename\u001b[0m\u001b[0;34m,\u001b[0m \u001b[0;34m'r'\u001b[0m\u001b[0;34m)\u001b[0m \u001b[0;32mas\u001b[0m \u001b[0mf\u001b[0m\u001b[0;34m:\u001b[0m\u001b[0;34m\u001b[0m\u001b[0;34m\u001b[0m\u001b[0m\n\u001b[0m\u001b[1;32m      7\u001b[0m         \u001b[0;31m# We could read the whole file at once, but this is\u001b[0m\u001b[0;34m\u001b[0m\u001b[0;34m\u001b[0m\u001b[0;34m\u001b[0m\u001b[0m\n\u001b[1;32m      8\u001b[0m         \u001b[0;31m# faster if the file is very large.\u001b[0m\u001b[0;34m\u001b[0m\u001b[0;34m\u001b[0m\u001b[0;34m\u001b[0m\u001b[0m\n",
      "\u001b[0;31mFileNotFoundError\u001b[0m: [Errno 2] No such file or directory: \"''\""
     ]
    }
   ],
   "source": [
    "while True:\n",
    "    filename = input(\"Filename or path, or nothing at all to exit: \")\n",
    "    if filename == '':\n",
    "        break\n",
    "\n",
    "    with open(filename, 'r') as f:\n",
    "        # We could read the whole file at once, but this is\n",
    "        # faster if the file is very large.\n",
    "        for line in f:\n",
    "            print(line.rstrip('\\n'))"
   ]
  },
  {
   "cell_type": "code",
   "execution_count": null,
   "metadata": {},
   "outputs": [],
   "source": []
  }
 ],
 "metadata": {
  "kernelspec": {
   "display_name": "Python 3",
   "language": "python",
   "name": "python3"
  },
  "language_info": {
   "codemirror_mode": {
    "name": "ipython",
    "version": 3
   },
   "file_extension": ".py",
   "mimetype": "text/x-python",
   "name": "python",
   "nbconvert_exporter": "python",
   "pygments_lexer": "ipython3",
   "version": "3.7.1"
  }
 },
 "nbformat": 4,
 "nbformat_minor": 2
}
